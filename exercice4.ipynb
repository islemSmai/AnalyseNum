{
 "cells": [
  {
   "cell_type": "code",
   "execution_count": 29,
   "id": "bd29a192-7055-4ede-b5bd-08a0e5994f7a",
   "metadata": {},
   "outputs": [
    {
     "name": "stdout",
     "output_type": "stream",
     "text": [
      "(-0.9990234375, 0.0009765625)\n"
     ]
    }
   ],
   "source": [
    "def newton(fonction,derivee,a,e):\n",
    "    delta = 1\n",
    "    while delta > e:\n",
    "        x = -fonction(a)/derivee(a) + a\n",
    "        delta = abs(x - a)\n",
    "        a = x\n",
    "        \n",
    "    return x , delta\n",
    "        \n",
    "print( newton(lambda x: x**2+2*x+1 , lambda x: 2*x+2 , 0 , 0.001) )"
   ]
  },
  {
   "cell_type": "code",
   "execution_count": null,
   "id": "a0c3eb64-4dbb-4cad-8a9b-936dcb688011",
   "metadata": {},
   "outputs": [],
   "source": []
  },
  {
   "cell_type": "code",
   "execution_count": null,
   "id": "ab0fcd90-4831-4b4c-9bbd-f7c8b34f710a",
   "metadata": {},
   "outputs": [],
   "source": []
  }
 ],
 "metadata": {
  "kernelspec": {
   "display_name": "Python 3",
   "language": "python",
   "name": "python3"
  },
  "language_info": {
   "codemirror_mode": {
    "name": "ipython",
    "version": 3
   },
   "file_extension": ".py",
   "mimetype": "text/x-python",
   "name": "python",
   "nbconvert_exporter": "python",
   "pygments_lexer": "ipython3",
   "version": "3.8.8"
  }
 },
 "nbformat": 4,
 "nbformat_minor": 5
}

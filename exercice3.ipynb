{
 "cells": [
  {
   "cell_type": "code",
   "execution_count": 1,
   "id": "21af7cf5-5ac4-4790-b863-fc7835715477",
   "metadata": {},
   "outputs": [
    {
     "data": {
      "image/png": "[encoded data removed]",
      "text/plain": [
       "<Figure size 432x288 with 4 Axes>"
      ]
     },
     "metadata": {
      "needs_background": "light"
     },
     "output_type": "display_data"
    }
   ],
   "source": [
    "%matplotlib inline\n",
    "#import mpld3\n",
    "#mpld3.enable_notebook()\n",
    "import numpy as np \n",
    "import matplotlib.pyplot as plt\n",
    "\n",
    "f=lambda x:x**3+4*x**2-10\n",
    "\n",
    "t=np.linspace(1,2,100)\n",
    "plt.subplot(2,2,1)\n",
    "plt.plot(t,f(t),'r')\n",
    "plt.grid(True)\n",
    "##########################################\n",
    "t=np.linspace(1.2,1.4,100)\n",
    "plt.subplot(2,2,2)\n",
    "plt.plot(t,f(t),'r')\n",
    "plt.grid(True)\n",
    "##########################################\n",
    "t=np.linspace(1.35,1.4,100)\n",
    "plt.subplot(2,2,3)\n",
    "plt.plot(t,f(t),'r')\n",
    "plt.grid(True)\n",
    "#########################################\n",
    "t=np.linspace(1.365,1.367,100)\n",
    "plt.subplot(2,2,4)\n",
    "plt.plot(t,f(t),'r')\n",
    "plt.grid(True)\n"
   ]
  },
  {
   "cell_type": "code",
   "execution_count": 2,
   "id": "37efe781-e4d6-4b19-b837-f617a8e09e24",
   "metadata": {},
   "outputs": [],
   "source": [
    "from sympy import *\n",
    "import numpy as np\n",
    "x, y, z = symbols('x y z')\n",
    "init_printing(use_unicode=True)\n",
    "g1=lambda x: 1/2*sqrt(10-x**3)"
   ]
  },
  {
   "cell_type": "code",
   "execution_count": 3,
   "id": "ac9a22f1-7205-4e4d-b7ae-ea6c0a1d73cc",
   "metadata": {},
   "outputs": [
    {
     "data": {
      "image/png": "[encoded data removed]",
      "text/latex": [
       "$\\displaystyle -0.511744628292746$"
      ],
      "text/plain": [
       "-0.5117446282927461"
      ]
     },
     "execution_count": 3,
     "metadata": {},
     "output_type": "execute_result"
    }
   ],
   "source": [
    "dg1=lambdify(x,diff(g1(x),x,1))\n",
    "dg1(1.365)"
   ]
  },
  {
   "cell_type": "code",
   "execution_count": 4,
   "id": "01e0ccc2-3b31-4b5d-beae-bcfb4186d2c9",
   "metadata": {},
   "outputs": [],
   "source": [
    "f=lambda x:  x**3+4*x**2-10 # la fonction f\n",
    "g1=lambda x: 1/2*sqrt(10-x**3)\n",
    "g2=lambda x: sqrt(10/(x+4))\n",
    "g3=lambda x: x-x**3-4*x**2 + 10\n",
    "\n",
    "\n",
    "\n",
    "from math import *\n",
    "\n",
    "def point_fixe(g, x0, epsilon, n_itermax):\n",
    "  \"\"\"\n",
    "    Retourne un tableau avec tous les points calculés ou une erreur \n",
    "  \"\"\"\n",
    "  itr = 0\n",
    "  xp = {}\n",
    "  x = 0\n",
    "\n",
    "  while (itr < n_itermax):\n",
    "    try:\n",
    "      x = g(x0)\n",
    "    except OverflowError:\n",
    "      break\n",
    "\n",
    "    xp[itr] = x0\n",
    "    if abs(x - x0) <= epsilon:\n",
    "      return xp\n",
    "\n",
    "    x0 = x\n",
    "    itr += 1\n",
    "\n",
    "  return \"Aucun point fixe\"\n",
    "\n",
    "def print_table(xp):\n",
    "  \"\"\"\n",
    "    Affiche un tableau avec toutes les valeurs ou l'erreur\n",
    "  \"\"\"\n",
    "  s = \"\"\n",
    "  if isinstance(xp, str):\n",
    "    s = xp\n",
    "  else:\n",
    "    for key, value in xp.items():\n",
    "      s += \"n = {}\\t\\tx = {}\\n\".format(key, value)\n",
    "  print(s)\n",
    "\n"
   ]
  },
  {
   "cell_type": "code",
   "execution_count": 8,
   "id": "697e5d0a-eaa7-4cbb-9e22-f332e34def97",
   "metadata": {},
   "outputs": [
    {
     "data": {
      "text/plain": [
       "'Aucun point fixe'"
      ]
     },
     "execution_count": 8,
     "metadata": {},
     "output_type": "execute_result"
    }
   ],
   "source": [
    "point_fixe(g3,1.5,0.0001,30)"
   ]
  },
  {
   "cell_type": "code",
   "execution_count": 6,
   "id": "7f641ce9-51c9-4244-9c88-18c9fc7e13c9",
   "metadata": {},
   "outputs": [
    {
     "data": {
      "text/plain": [
       "{0: 1, 1: 1.4142135623730951, 2: 1.3590402174294351, 3: 1.3660182195292663}"
      ]
     },
     "execution_count": 6,
     "metadata": {},
     "output_type": "execute_result"
    }
   ],
   "source": [
    "point_fixe(g2,1,0.001,12)"
   ]
  },
  {
   "cell_type": "code",
   "execution_count": 7,
   "id": "9765fb11-4ff0-4d79-a1f3-4d2346284ba4",
   "metadata": {},
   "outputs": [
    {
     "data": {
      "text/plain": [
       "'Aucun point fixe'"
      ]
     },
     "execution_count": 7,
     "metadata": {},
     "output_type": "execute_result"
    }
   ],
   "source": [
    "point_fixe(g3,1,0.001,12)"
   ]
  },
  {
   "cell_type": "code",
   "execution_count": null,
   "id": "7850f97e-8698-44a2-8d70-fef7862f3c0d",
   "metadata": {},
   "outputs": [],
   "source": []
  }
 ],
 "metadata": {
  "kernelspec": {
   "display_name": "Python 3",
   "language": "python",
   "name": "python3"
  },
  "language_info": {
   "codemirror_mode": {
    "name": "ipython",
    "version": 3
   },
   "file_extension": ".py",
   "mimetype": "text/x-python",
   "name": "python",
   "nbconvert_exporter": "python",
   "pygments_lexer": "ipython3",
   "version": "3.8.8"
  }
 },
 "nbformat": 4,
 "nbformat_minor": 5
}
